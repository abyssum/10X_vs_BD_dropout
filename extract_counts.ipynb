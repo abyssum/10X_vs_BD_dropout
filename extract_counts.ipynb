{
 "cells": [
  {
   "cell_type": "markdown",
   "id": "77e231d7-dba3-477e-ad7a-f3b9af6f1622",
   "metadata": {},
   "source": [
    "### 1. Import required packages"
   ]
  },
  {
   "cell_type": "code",
   "execution_count": 1,
   "id": "1ae05c82-1166-46ea-af24-c63a4653b713",
   "metadata": {},
   "outputs": [],
   "source": [
    "import scanpy as sc\n",
    "import anndata as ad"
   ]
  },
  {
   "cell_type": "markdown",
   "id": "9ae33b8d-f059-44d4-9893-b7df448e926e",
   "metadata": {},
   "source": [
    "### 2. Load in the data"
   ]
  },
  {
   "cell_type": "code",
   "execution_count": 2,
   "id": "b1e38b85-10fc-4390-a651-3710e0d02c67",
   "metadata": {},
   "outputs": [],
   "source": [
    "# Load the data\n",
    "adata = ad.read_h5ad(\n",
    "    \"/home/fotakis/myScratch/sc_results/10X_BD/Prostate_RAW.h5ad\"\n",
    ")"
   ]
  },
  {
   "cell_type": "markdown",
   "id": "22adda44-38f0-48eb-8086-f3cfcfaa3fdd",
   "metadata": {},
   "source": [
    "### 3. Subset the dataset for all cells sequenced with 10X Chromium platform\n",
    "#### 3.1. Define the cell IDs we need to keep (10X)"
   ]
  },
  {
   "cell_type": "code",
   "execution_count": 3,
   "id": "a2fdbc47-f3f4-488a-b504-d68c06e4baa3",
   "metadata": {},
   "outputs": [
    {
     "data": {
      "text/plain": [
       "View of AnnData object with n_obs × n_vars = 29197 × 19756\n",
       "    obs: 'report', 'platform', 'patient', 'sample', 'Batch', 'n_genes', 'n_genes_by_counts', 'total_counts', 'total_counts_mt', 'pct_counts_mt'\n",
       "    var: 'gene_ids-0', 'feature_types-0', 'gene_ids-1', 'feature_types-1', 'gene_ids-2', 'feature_types-2', 'gene_ids-3', 'feature_types-3', 'gene_ids-4', 'feature_types-4', 'gene_ids-5', 'feature_types-5', 'n_cells', 'mt', 'n_cells_by_counts', 'mean_counts', 'pct_dropout_by_counts', 'total_counts'\n",
       "    uns: 'platform_colors', 'sample_colors'"
      ]
     },
     "execution_count": 3,
     "metadata": {},
     "output_type": "execute_result"
    }
   ],
   "source": [
    "cell_ids = (\n",
    "    adata.obs\n",
    "         .loc[lambda x: x[\"platform\"] == \"10X\"]\n",
    "    ).index\n",
    "adata[cell_ids, :]"
   ]
  },
  {
   "cell_type": "markdown",
   "id": "d7a84de6-6086-4714-b9b0-311805cc1698",
   "metadata": {},
   "source": [
    "#### 3.2.Copy the subseted 10X anndata object to a new one"
   ]
  },
  {
   "cell_type": "code",
   "execution_count": 4,
   "id": "19698fe0-c50b-4f06-8dc9-2f403d994b53",
   "metadata": {},
   "outputs": [],
   "source": [
    "chromium_adata = adata[cell_ids, :].copy()"
   ]
  },
  {
   "cell_type": "markdown",
   "id": "970b4117-5c64-46d8-9e53-c0825dd87694",
   "metadata": {},
   "source": [
    "#### 3.3. Save the (transposed) 10X counts matrix to a CSV file for downstream analysis"
   ]
  },
  {
   "cell_type": "code",
   "execution_count": null,
   "id": "ba45b8b4-08e0-4536-8d01-5da24cc374bc",
   "metadata": {},
   "outputs": [],
   "source": [
    "chromium_adata.T.to_df().to_csv('./tables/10X_counts_matrix.csv')"
   ]
  },
  {
   "cell_type": "markdown",
   "id": "3d8aff1e-6053-433a-ae94-88f6fa5649ed",
   "metadata": {},
   "source": [
    "### 4. Subsample the 10X dataset to 18000 cells"
   ]
  },
  {
   "cell_type": "code",
   "execution_count": null,
   "id": "94f245e0-1968-4421-a74d-18ddac75441a",
   "metadata": {},
   "outputs": [],
   "source": [
    "chromium_adata_subsam = chromium_adata.copy()\n",
    "target_cells = 18000\n",
    "sc.pp.subsample(chromium_adata_subsam, n_obs=target_cells)"
   ]
  },
  {
   "cell_type": "markdown",
   "id": "ab8815de-9cdb-4531-9115-d69b1ba98c6e",
   "metadata": {},
   "source": [
    "#### 4.1. Save the subsampled (transposed) 10X counts matrix to CSV file for downstream analysis"
   ]
  },
  {
   "cell_type": "code",
   "execution_count": null,
   "id": "20ff3dec-4daa-47f8-9555-307431da7fbb",
   "metadata": {},
   "outputs": [],
   "source": [
    "chromium_adata_subsam.T.to_df().to_csv('./tables/10X_counts_matrix_subsampled.csv')"
   ]
  },
  {
   "cell_type": "markdown",
   "id": "70223cde-66e3-4be7-a24a-507cc6f03491",
   "metadata": {},
   "source": [
    "### 5. Subset the dataset for all cells sequenced with the BD Rhapsody platform\n",
    "#### 5.1. Define the cell IDs we need to keep (BD)"
   ]
  },
  {
   "cell_type": "code",
   "execution_count": null,
   "id": "5d550cb0-8467-48a4-bfa0-a14da06e4b50",
   "metadata": {},
   "outputs": [],
   "source": [
    "cell_ids2 = (\n",
    "    adata.obs\n",
    "         .loc[lambda x: x[\"platform\"] == \"BD\"]\n",
    "    ).index\n",
    "adata[cell_ids2, :]"
   ]
  },
  {
   "cell_type": "markdown",
   "id": "429f1013-9246-487f-881e-a0d0a957e959",
   "metadata": {},
   "source": [
    "#### 5.2. Copy the subseted BD anndata object to a new one"
   ]
  },
  {
   "cell_type": "code",
   "execution_count": null,
   "id": "906f9a16-829d-47f8-8d82-c45e1dd28deb",
   "metadata": {},
   "outputs": [],
   "source": [
    "bd_adata = adata[cell_ids2, :].copy()"
   ]
  },
  {
   "cell_type": "markdown",
   "id": "7e144d3a-febe-4037-a642-5499ad2906cb",
   "metadata": {},
   "source": [
    "#### 5.3. Save the (transposed) BD counts matrix to a CSV file for downstream analysis"
   ]
  },
  {
   "cell_type": "code",
   "execution_count": null,
   "id": "96215a4a-98c1-47b9-87bf-2cdfc805062e",
   "metadata": {},
   "outputs": [],
   "source": [
    "bd_adata.T.to_df().to_csv('./tables/BD_counts_matrix.csv')"
   ]
  },
  {
   "cell_type": "markdown",
   "id": "446789ee-9c9d-4157-b60b-6c12cf767ed3",
   "metadata": {},
   "source": [
    "### 6. Subsample the BD dataset to 18000 cells"
   ]
  },
  {
   "cell_type": "code",
   "execution_count": null,
   "id": "9f5b3f8c-2dac-47b4-9f23-d317a8043257",
   "metadata": {},
   "outputs": [],
   "source": [
    "bd_adata_subsam = bd_adata.copy()\n",
    "target_cells = 18000\n",
    "sc.pp.subsample(bd_adata_subsam, n_obs=target_cells)"
   ]
  },
  {
   "cell_type": "markdown",
   "id": "2d76994d-73c4-4cd8-a310-f4bd5177eb82",
   "metadata": {},
   "source": [
    "#### 6.1. Save the subsampled (transposed) BD counts matrix to CSV file for downstream analysis"
   ]
  },
  {
   "cell_type": "code",
   "execution_count": null,
   "id": "611c3133-c456-443e-bdd2-c3a649dc720f",
   "metadata": {},
   "outputs": [],
   "source": [
    "bd_adata_subsam.T.to_df().to_csv('./tables/BD_counts_matrix_subsampled.csv')"
   ]
  }
 ],
 "metadata": {
  "kernelspec": {
   "display_name": "Python [conda env:.conda-scvelo]",
   "language": "python",
   "name": "conda-env-.conda-scvelo-py"
  },
  "language_info": {
   "codemirror_mode": {
    "name": "ipython",
    "version": 3
   },
   "file_extension": ".py",
   "mimetype": "text/x-python",
   "name": "python",
   "nbconvert_exporter": "python",
   "pygments_lexer": "ipython3",
   "version": "3.9.13"
  }
 },
 "nbformat": 4,
 "nbformat_minor": 5
}
