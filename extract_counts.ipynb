{
 "cells": [
  {
   "cell_type": "code",
   "execution_count": null,
   "id": "2d8f8eff-0f96-4dbc-acbb-a4c25b558609",
   "metadata": {},
   "outputs": [],
   "source": []
  },
  {
   "cell_type": "code",
   "execution_count": 1,
   "id": "1ae05c82-1166-46ea-af24-c63a4653b713",
   "metadata": {},
   "outputs": [],
   "source": [
    "import scanpy as sc\n",
    "import pandas as pd\n",
    "import anndata as ad"
   ]
  },
  {
   "cell_type": "code",
   "execution_count": 2,
   "id": "b1e38b85-10fc-4390-a651-3710e0d02c67",
   "metadata": {},
   "outputs": [],
   "source": [
    "# Load the data\n",
    "adata = ad.read_h5ad(\n",
    "    \"/home/fotakis/myScratch/sc_results/10X_BD/Prostate_RAW.h5ad\"\n",
    ")"
   ]
  },
  {
   "cell_type": "code",
   "execution_count": null,
   "id": "0ce3851f-e67c-48ed-bcbb-d8710562feb5",
   "metadata": {},
   "outputs": [],
   "source": []
  },
  {
   "cell_type": "code",
   "execution_count": 16,
   "id": "a2fdbc47-f3f4-488a-b504-d68c06e4baa3",
   "metadata": {},
   "outputs": [
    {
     "data": {
      "text/plain": [
       "View of AnnData object with n_obs × n_vars = 29197 × 19756\n",
       "    obs: 'report', 'platform', 'patient', 'sample', 'Batch', 'n_genes', 'n_genes_by_counts', 'total_counts', 'total_counts_mt', 'pct_counts_mt'\n",
       "    var: 'gene_ids-0', 'feature_types-0', 'gene_ids-1', 'feature_types-1', 'gene_ids-2', 'feature_types-2', 'gene_ids-3', 'feature_types-3', 'gene_ids-4', 'feature_types-4', 'gene_ids-5', 'feature_types-5', 'n_cells', 'mt', 'n_cells_by_counts', 'mean_counts', 'pct_dropout_by_counts', 'total_counts'\n",
       "    uns: 'platform_colors', 'sample_colors'"
      ]
     },
     "execution_count": 16,
     "metadata": {},
     "output_type": "execute_result"
    }
   ],
   "source": [
    "cell_ids = (\n",
    "    adata.obs\n",
    "         .loc[lambda x: x[\"platform\"] == \"10X\"]\n",
    "    ).index\n",
    "adata[cell_ids, :]"
   ]
  },
  {
   "cell_type": "code",
   "execution_count": 24,
   "id": "19698fe0-c50b-4f06-8dc9-2f403d994b53",
   "metadata": {},
   "outputs": [],
   "source": [
    "chromium_adata = adata[cell_ids, :].copy()"
   ]
  },
  {
   "cell_type": "code",
   "execution_count": null,
   "id": "ba45b8b4-08e0-4536-8d01-5da24cc374bc",
   "metadata": {},
   "outputs": [],
   "source": [
    "chromium_adata.copy().T.to_df().to_csv('./tables/10X_counts_matrix.csv')"
   ]
  },
  {
   "cell_type": "code",
   "execution_count": null,
   "id": "095bffe9-e157-4382-a107-209b25cd5ae8",
   "metadata": {},
   "outputs": [],
   "source": []
  },
  {
   "cell_type": "code",
   "execution_count": 18,
   "id": "5d550cb0-8467-48a4-bfa0-a14da06e4b50",
   "metadata": {},
   "outputs": [
    {
     "data": {
      "text/plain": [
       "View of AnnData object with n_obs × n_vars = 18360 × 19756\n",
       "    obs: 'report', 'platform', 'patient', 'sample', 'Batch', 'n_genes', 'n_genes_by_counts', 'total_counts', 'total_counts_mt', 'pct_counts_mt'\n",
       "    var: 'gene_ids-0', 'feature_types-0', 'gene_ids-1', 'feature_types-1', 'gene_ids-2', 'feature_types-2', 'gene_ids-3', 'feature_types-3', 'gene_ids-4', 'feature_types-4', 'gene_ids-5', 'feature_types-5', 'n_cells', 'mt', 'n_cells_by_counts', 'mean_counts', 'pct_dropout_by_counts', 'total_counts'\n",
       "    uns: 'platform_colors', 'sample_colors'"
      ]
     },
     "execution_count": 18,
     "metadata": {},
     "output_type": "execute_result"
    }
   ],
   "source": [
    "cell_ids2 = (\n",
    "    adata.obs\n",
    "         .loc[lambda x: x[\"platform\"] == \"BD\"]\n",
    "    ).index\n",
    "adata[cell_ids2, :]"
   ]
  },
  {
   "cell_type": "code",
   "execution_count": 19,
   "id": "906f9a16-829d-47f8-8d82-c45e1dd28deb",
   "metadata": {},
   "outputs": [],
   "source": [
    "bd_adata = adata[cell_ids2, :].copy()"
   ]
  },
  {
   "cell_type": "code",
   "execution_count": null,
   "id": "96215a4a-98c1-47b9-87bf-2cdfc805062e",
   "metadata": {},
   "outputs": [],
   "source": [
    "bd_adata.copy().T.to_df().to_csv('./tables/BD_counts_matrix.csv')"
   ]
  },
  {
   "cell_type": "code",
   "execution_count": null,
   "id": "22c8d807-57f0-45c3-a490-0e9b31ea844e",
   "metadata": {},
   "outputs": [],
   "source": []
  },
  {
   "cell_type": "code",
   "execution_count": 25,
   "id": "9f5b3f8c-2dac-47b4-9f23-d317a8043257",
   "metadata": {},
   "outputs": [],
   "source": [
    "chromium_adata_subsam = chromium_adata.copy()\n",
    "target_cells = 18000\n",
    "sc.pp.subsample(chromium_adata_subsam, n_obs=target_cells)"
   ]
  },
  {
   "cell_type": "code",
   "execution_count": 30,
   "id": "9d5ac6e8-abc4-4740-9f8b-a6372939f184",
   "metadata": {},
   "outputs": [],
   "source": [
    "chromium_adata_subsam.copy().T.to_df().to_csv('./tables/10X_counts_matrix_subsampled.csv')"
   ]
  },
  {
   "cell_type": "code",
   "execution_count": 26,
   "id": "611c3133-c456-443e-bdd2-c3a649dc720f",
   "metadata": {},
   "outputs": [
    {
     "data": {
      "text/plain": [
       "AnnData object with n_obs × n_vars = 18000 × 19756\n",
       "    obs: 'report', 'platform', 'patient', 'sample', 'Batch', 'n_genes', 'n_genes_by_counts', 'total_counts', 'total_counts_mt', 'pct_counts_mt'\n",
       "    var: 'gene_ids-0', 'feature_types-0', 'gene_ids-1', 'feature_types-1', 'gene_ids-2', 'feature_types-2', 'gene_ids-3', 'feature_types-3', 'gene_ids-4', 'feature_types-4', 'gene_ids-5', 'feature_types-5', 'n_cells', 'mt', 'n_cells_by_counts', 'mean_counts', 'pct_dropout_by_counts', 'total_counts'\n",
       "    uns: 'platform_colors', 'sample_colors'"
      ]
     },
     "execution_count": 26,
     "metadata": {},
     "output_type": "execute_result"
    }
   ],
   "source": [
    "chromium_adata_subsam"
   ]
  },
  {
   "cell_type": "code",
   "execution_count": 28,
   "id": "2c23a08b-421c-47a9-8f75-6ba6a33d772f",
   "metadata": {},
   "outputs": [],
   "source": [
    "bd_adata_subsam = bd_adata.copy()\n",
    "target_cells = 18000\n",
    "sc.pp.subsample(bd_adata_subsam, n_obs=target_cells)"
   ]
  },
  {
   "cell_type": "code",
   "execution_count": 31,
   "id": "4f644b7b-f857-40e9-9abe-c64cb5893fba",
   "metadata": {},
   "outputs": [],
   "source": [
    "bd_adata_subsam.copy().T.to_df().to_csv('./tables/BD_counts_matrix_subsampled.csv')"
   ]
  },
  {
   "cell_type": "code",
   "execution_count": 29,
   "id": "1e096ab9-bff0-4c2c-926b-1f5ded7b922e",
   "metadata": {},
   "outputs": [
    {
     "data": {
      "text/plain": [
       "AnnData object with n_obs × n_vars = 18000 × 19756\n",
       "    obs: 'report', 'platform', 'patient', 'sample', 'Batch', 'n_genes', 'n_genes_by_counts', 'total_counts', 'total_counts_mt', 'pct_counts_mt'\n",
       "    var: 'gene_ids-0', 'feature_types-0', 'gene_ids-1', 'feature_types-1', 'gene_ids-2', 'feature_types-2', 'gene_ids-3', 'feature_types-3', 'gene_ids-4', 'feature_types-4', 'gene_ids-5', 'feature_types-5', 'n_cells', 'mt', 'n_cells_by_counts', 'mean_counts', 'pct_dropout_by_counts', 'total_counts'\n",
       "    uns: 'platform_colors', 'sample_colors'"
      ]
     },
     "execution_count": 29,
     "metadata": {},
     "output_type": "execute_result"
    }
   ],
   "source": [
    "bd_adata_subsam"
   ]
  }
 ],
 "metadata": {
  "kernelspec": {
   "display_name": "Python [conda env:.conda-scvelo]",
   "language": "python",
   "name": "conda-env-.conda-scvelo-py"
  },
  "language_info": {
   "codemirror_mode": {
    "name": "ipython",
    "version": 3
   },
   "file_extension": ".py",
   "mimetype": "text/x-python",
   "name": "python",
   "nbconvert_exporter": "python",
   "pygments_lexer": "ipython3",
   "version": "3.9.13"
  }
 },
 "nbformat": 4,
 "nbformat_minor": 5
}
